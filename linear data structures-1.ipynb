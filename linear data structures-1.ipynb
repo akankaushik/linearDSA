{
 "cells": [
  {
   "cell_type": "markdown",
   "id": "2931dbf9",
   "metadata": {},
   "source": [
    "\"Linear Data Structures\"\n"
   ]
  },
  {
   "cell_type": "code",
   "execution_count": null,
   "id": "a04107cd",
   "metadata": {},
   "outputs": [],
   "source": [
    "console.log(\"Linear Data Structures\")"
   ]
  },
  {
   "cell_type": "code",
   "execution_count": 13,
   "id": "4ec89836",
   "metadata": {},
   "outputs": [
    {
     "name": "stdout",
     "output_type": "stream",
     "text": [
      "[ [ 1, 5 ], [ 1, 5 ], [ 7, -1 ] ]\n"
     ]
    }
   ],
   "source": [
    "// Q1 Write a program to find all pairs of an integer array whose sum is equal to a given number?\n",
    "\n",
    "function getPairsCount(arr, sum)\n",
    "{\n",
    "    var n= arr.length;\n",
    "    var arr1=[]\n",
    "    for (let i = 0; i < n; i++)\n",
    "        for (let j = i + 1; j < n; j++)\n",
    "            if (arr[i] + arr[j] == sum)\n",
    "                arr1.push([arr[i],arr[j]])\n",
    "                \n",
    " \n",
    "    return arr1;\n",
    "}\n",
    "\n",
    "console.log(getPairsCount([ 1, 5, 7, -1, 5 ],6))\n"
   ]
  },
  {
   "cell_type": "code",
   "execution_count": 14,
   "id": "92560353",
   "metadata": {},
   "outputs": [
    {
     "name": "stdout",
     "output_type": "stream",
     "text": [
      "[ 6, 5, 4, 3, 2, 1 ]\n"
     ]
    }
   ],
   "source": [
    "// Q2 Write a program to reverse an array in place? In place means you cannot create a new array. \n",
    "// You have to update the original array.\n",
    "\n",
    "function rvereseArray(arr)\n",
    "{\n",
    "    var start=0;\n",
    "    var end= arr.length-1;\n",
    "    while (start < end)\n",
    "    {   \n",
    "        var temp = arr[start];\n",
    "        arr[start] = arr[end];\n",
    "        arr[end] = temp;\n",
    "        start++;\n",
    "        end--;\n",
    "    }\n",
    "    return arr\n",
    "}\n",
    "\n",
    "console.log(rvereseArray([1, 2, 3, 4, 5, 6]));"
   ]
  },
  {
   "cell_type": "code",
   "execution_count": 3,
   "id": "af6b2c8d",
   "metadata": {},
   "outputs": [
    {
     "name": "stdout",
     "output_type": "stream",
     "text": [
      "Second string is a rotation of first string\n"
     ]
    }
   ],
   "source": [
    "// Q3. Write a program to check if two strings are a rotation of each other?\n",
    "\n",
    "let str3 = \"ABCD\";\n",
    "let str4 = \"CDAB\";\n",
    "\n",
    "if(str3.length !== str4.length){\n",
    "    console.log(\"Second string is not a rotation of first string\");\n",
    "} \n",
    "else {\n",
    "        str3 = str3 + str3;\n",
    "    \n",
    "        if(str3.indexOf(str4) !== -1){\n",
    "            console.log(\"Second string is a rotation of first string\");\n",
    "        }\n",
    "        \n",
    "        else {\n",
    "           console.log(\"Second string is not a rotation of first string\");\n",
    "    }\n",
    "}"
   ]
  },
  {
   "cell_type": "code",
   "execution_count": 4,
   "id": "0e6c1093",
   "metadata": {},
   "outputs": [
    {
     "name": "stdout",
     "output_type": "stream",
     "text": [
      "First non-repeating character is:r\n"
     ]
    }
   ],
   "source": [
    "// Q4. Write a program to print the first non-repeated character from a string?\n",
    "let inputStr = \"teeter\";\n",
    "for (var i of inputStr) {\n",
    "  if (inputStr.indexOf(i) === inputStr.lastIndexOf(i)) {\n",
    "    console.log(\"First non-repeating character is:\"+ i);\n",
    "    break;\n",
    "  }\n",
    "}\n",
    "\n"
   ]
  },
  {
   "cell_type": "code",
   "execution_count": 7,
   "id": "388291ea",
   "metadata": {},
   "outputs": [
    {
     "name": "stdout",
     "output_type": "stream",
     "text": [
      "Move disk 1 from  A to  B\n",
      "Move disk 2 from A to  C\n",
      "Move disk 1 from  B to  C\n",
      "Move disk 3 from A to  B\n",
      "Move disk 1 from  C to  A\n",
      "Move disk 2 from C to  B\n",
      "Move disk 1 from  A to  B\n"
     ]
    }
   ],
   "source": [
    "// Q5. Read about the Tower of Hanoi algorithm. Write a program to implement it.\n",
    "\n",
    "function tower_of_hanoi(n, source, destination, helper) {\n",
    "    if (n === 1) {\n",
    "        console.log(\"Move disk 1 from  \" + source + \" to  \"+ destination);\n",
    "        return;\n",
    "    }\n",
    "    tower_of_hanoi(n - 1, source, helper, destination);\n",
    "    console.log(\"Move disk \"+ n+\" from \"+source+\" to  \"+destination);\n",
    "    tower_of_hanoi(n - 1, helper, destination, source);\n",
    "}\n",
    "\n",
    "tower_of_hanoi(3, 'A', 'B', 'C');"
   ]
  },
  {
   "cell_type": "code",
   "execution_count": 8,
   "id": "30f85498",
   "metadata": {},
   "outputs": [
    {
     "name": "stdout",
     "output_type": "stream",
     "text": [
      "POSTFIX EXPRESSION: ab+\n",
      "PREFIX EXPRESSION: +ab\n"
     ]
    }
   ],
   "source": [
    "// Q6. Read about infix, prefix, and postfix expressions. \n",
    "// Write a program to convert postfix to prefix expression.\n",
    "function isOperand(c) {\n",
    "  if ((c >= 'a' && c <= 'z') || (c >= 'A' && c <= 'Z')) {\n",
    "    return true;\n",
    "  } else {\n",
    "    return false;\n",
    "  }\n",
    "}\n",
    "\n",
    "function PostfixToPrefix(postfix) {\n",
    "  let s = [];\n",
    "  for (let i = 0; i < postfix.length; i++) {\n",
    "    if (isOperand(postfix[i])) {\n",
    "      let op = postfix[i];\n",
    "      s.push(op);\n",
    "    } else {\n",
    "      let op1 = s.pop();\n",
    "      let op2 = s.pop();\n",
    "      s.push(postfix[i] + op2 + op1);\n",
    "    }\n",
    "  }\n",
    "  return s.pop();\n",
    "}\n",
    "let postfix = \"ab+\" ;\n",
    "let prefix;\n",
    "console.log(\"POSTFIX EXPRESSION: \" + postfix);\n",
    "prefix = PostfixToPrefix(postfix);\n",
    "console.log(\"PREFIX EXPRESSION: \" + prefix);"
   ]
  },
  {
   "cell_type": "code",
   "execution_count": 13,
   "id": "da00a719",
   "metadata": {},
   "outputs": [
    {
     "name": "stdout",
     "output_type": "stream",
     "text": [
      "PREFIX EXPRESSION: +*abc\n",
      "INFIX EXPRESSION: ((a*b)+c)\n"
     ]
    }
   ],
   "source": [
    "// Q7. Write a program to convert prefix expression to infix expression. \n",
    "\n",
    "function isOperand(c) {\n",
    "            if ((c >= 'a' && c <= 'z') || (c >= 'A' && c <= 'Z')) {\n",
    "                return true;\n",
    "            } else {\n",
    "                return false;\n",
    "            }\n",
    "        }\n",
    "\n",
    "function PrefixToInfix(PreFiX) {\n",
    "            let s = [];\n",
    "            for (let i = PreFiX.length - 1; i >= 0; i--) {\n",
    "                if (isOperand(PreFiX[i])) {\n",
    "                    let op = PreFiX[i];\n",
    "                    s.push(op);\n",
    "                } else {\n",
    "                    let op1 = s.pop();\n",
    "                    let op2 = s.pop();\n",
    "                    s.push(\"(\" + op1 + PreFiX[i] + op2 + \")\");\n",
    "                }\n",
    "            }\n",
    "    return s.pop();\n",
    "}\n",
    "\n",
    "let PreFiX = \"+*abc\";\n",
    "let InFiX;\n",
    "console.log(\"PREFIX EXPRESSION: \" + PreFiX);\n",
    "InFiX = PrefixToInfix(PreFiX);\n",
    "console.log(\"INFIX EXPRESSION: \" + InFiX);\n"
   ]
  },
  {
   "cell_type": "code",
   "execution_count": 14,
   "id": "098f7db9",
   "metadata": {},
   "outputs": [
    {
     "name": "stdout",
     "output_type": "stream",
     "text": [
      "Balanced Expression\n"
     ]
    }
   ],
   "source": [
    "// Q8. Write a program to check if all the brackets are closed in a given code snippet.\n",
    "\n",
    "function areBracketsBalanced(expr)\n",
    "{\n",
    "      \n",
    "    // than using Stack class\n",
    "    let stack = [];\n",
    "  \n",
    "    // Traversing the Expression\n",
    "    for(let i = 0; i < expr.length; i++)\n",
    "    {\n",
    "        let x = expr[i];\n",
    "  \n",
    "        if (x == '(' || x == '[' || x == '{')\n",
    "        {\n",
    "              \n",
    "            // Push the element in the stack\n",
    "            stack.push(x);\n",
    "            continue;\n",
    "        }\n",
    "  \n",
    "        // If current character is not opening\n",
    "        // bracket, then it must be closing. \n",
    "        // So stack cannot be empty at this point.\n",
    "        if (stack.length == 0)\n",
    "            return false;\n",
    "              \n",
    "        let check;\n",
    "        switch (x){\n",
    "        case ')':\n",
    "            check = stack.pop();\n",
    "            if (check == '{' || check == '[')\n",
    "                return false;\n",
    "            break;\n",
    "  \n",
    "        case '}':\n",
    "            check = stack.pop();\n",
    "            if (check == '(' || check == '[')\n",
    "                return false;\n",
    "            break;\n",
    "  \n",
    "        case ']':\n",
    "            check = stack.pop();\n",
    "            if (check == '(' || check == '{')\n",
    "                return false;\n",
    "            break;\n",
    "        }\n",
    "    }\n",
    "  \n",
    "    // Check Empty Stack\n",
    "    return (stack.length == 0);\n",
    "}\n",
    "  \n",
    "// Driver code\n",
    "let expr = \"([{}])\";\n",
    "  \n",
    "// Function call\n",
    "if (areBracketsBalanced(expr))\n",
    "    console.log(\"Balanced Expression\")\n",
    "else\n",
    "    console.log(\"Not a Balanced Expression\")\n",
    "    \n",
    "  \n"
   ]
  },
  {
   "cell_type": "code",
   "execution_count": 4,
   "id": "684901a3",
   "metadata": {},
   "outputs": [
    {
     "name": "stdout",
     "output_type": "stream",
     "text": [
      "Original Stack\n",
      "7 8 9 10\n",
      "Reversed Stack\n",
      "10 9 8 7\n"
     ]
    }
   ],
   "source": [
    "// Q9. Write a program to reverse a stack.\n",
    "\n",
    "let stack = [];\n",
    " \n",
    "\n",
    "function insert_at_bottom(x)\n",
    "{\n",
    "    if(stack.length==0)\n",
    "        stack.push(x);\n",
    "    else\n",
    "    {\n",
    "            let a = stack.pop();\n",
    "            insert_at_bottom(x);\n",
    "  \n",
    "            stack.push(a);\n",
    "    }\n",
    "     \n",
    "     \n",
    "}\n",
    "\n",
    "function reverse()\n",
    "{\n",
    "    if(stack.length > 0)\n",
    "        {    \n",
    "            let x = stack.pop();\n",
    "            reverse();  \n",
    "            insert_at_bottom(x);\n",
    "        }\n",
    "}\n",
    " \n",
    "// push elements into\n",
    "// the stack\n",
    "stack.push('7');\n",
    "stack.push('8');\n",
    "stack.push('9');\n",
    "stack.push('10');\n",
    " \n",
    "console.log(\"Original Stack\");\n",
    "console.log(stack.join(\" \"));\n",
    " \n",
    "\n",
    "reverse();\n",
    " \n",
    "console.log(\"Reversed Stack\");\n",
    " \n",
    "console.log(stack.join(\" \"));\n",
    " \n",
    "\n"
   ]
  },
  {
   "cell_type": "code",
   "execution_count": 1,
   "id": "ae213dde",
   "metadata": {},
   "outputs": [
    {
     "name": "stdout",
     "output_type": "stream",
     "text": [
      "Minimum Element is:10\n"
     ]
    }
   ],
   "source": [
    "// Q10. Write a program to find the smallest number using a stack.\n",
    "\n",
    "class UDStack {\n",
    "  constructor() {\n",
    "    this.stk = [];\n",
    "  }\n",
    "  \n",
    "  push(currentElement) {\n",
    "    if (this.stk.length === 0) {\n",
    "      this.minElement = currentElement;\n",
    "      this.stk.push(currentElement);\n",
    "      return;\n",
    "    }\n",
    "    if (currentElement < this.minElement) {\n",
    "      this.stk.push(2 * currentElement - this.minElement);\n",
    "      this.minElement = currentElement;\n",
    "    } else {\n",
    "      this.stk.push(currentElement);\n",
    "    }\n",
    "  }\n",
    "  \n",
    "  pop() {\n",
    "    if (this.stk.length === 0) {\n",
    "      console.log(\"Underflow Error: Stack is Empty\");\n",
    "    }\n",
    "    return this.stk.pop();\n",
    "  }\n",
    "  \n",
    "  getMin() {\n",
    "    if (this.stk.length === 0) {\n",
    "      console.log(\"Underflow Error: Stack is Empty\");\n",
    "    }\n",
    "    return this.minElement;\n",
    "  }\n",
    "}\n",
    "\n",
    "const stk = new UDStack();\n",
    "stk.push(10);\n",
    "stk.push(20);\n",
    "stk.push(30);\n",
    "stk.push(50);\n",
    "stk.push(600);\n",
    "console.log(\"Minimum Element is:\" + stk.getMin());\n",
    "\n"
   ]
  },
  {
   "cell_type": "code",
   "execution_count": null,
   "id": "ce2bafb0",
   "metadata": {},
   "outputs": [],
   "source": []
  }
 ],
 "metadata": {
  "kernelspec": {
   "display_name": "JavaScript (Node.js)",
   "language": "javascript",
   "name": "javascript"
  },
  "language_info": {
   "file_extension": ".js",
   "mimetype": "application/javascript",
   "name": "javascript",
   "version": "18.12.1"
  }
 },
 "nbformat": 4,
 "nbformat_minor": 5
}
